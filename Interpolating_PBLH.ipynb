{
  "cells": [
    {
      "cell_type": "markdown",
      "metadata": {
        "id": "view-in-github",
        "colab_type": "text"
      },
      "source": [
        "<a href=\"https://colab.research.google.com/github/Rayonil/Interpolating_PBLH/blob/main/Interpolating_PBLH.ipynb\" target=\"_parent\"><img src=\"https://colab.research.google.com/assets/colab-badge.svg\" alt=\"Open In Colab\"/></a>"
      ]
    },
    {
      "cell_type": "markdown",
      "metadata": {
        "id": "ddWXxlCyN7gn"
      },
      "source": [
        "# **0. Conectar Drive e Importar Bibliotecas**"
      ]
    },
    {
      "cell_type": "markdown",
      "metadata": {
        "id": "o-612AY8OB3b"
      },
      "source": [
        "## Conectar ao Driver"
      ]
    },
    {
      "cell_type": "code",
      "execution_count": 1,
      "metadata": {
        "colab": {
          "base_uri": "https://localhost:8080/"
        },
        "id": "4rJA8G7MOHWQ",
        "outputId": "9be8a4be-8713-4863-e324-96e57c0691e7"
      },
      "outputs": [
        {
          "output_type": "stream",
          "name": "stdout",
          "text": [
            "Mounted at /content/drive\n"
          ]
        }
      ],
      "source": [
        "from google.colab import drive\n",
        "drive.mount(\"/content/drive\", force_remount=True)"
      ]
    },
    {
      "cell_type": "markdown",
      "metadata": {
        "id": "u3c4u2LnORRM"
      },
      "source": [
        "## Instalar bibliotecas"
      ]
    },
    {
      "cell_type": "code",
      "execution_count": 2,
      "metadata": {
        "colab": {
          "base_uri": "https://localhost:8080/"
        },
        "id": "IIXvXn0-OQ0E",
        "outputId": "12be600e-903e-4f71-f0b6-1e9b8ab391f4"
      },
      "outputs": [
        {
          "output_type": "stream",
          "name": "stdout",
          "text": [
            "\u001b[2K     \u001b[90m━━━━━━━━━━━━━━━━━━━━━━━━━━━━━━━━━━━━━━━━\u001b[0m \u001b[32m5.5/5.5 MB\u001b[0m \u001b[31m12.7 MB/s\u001b[0m eta \u001b[36m0:00:00\u001b[0m\n",
            "\u001b[2K     \u001b[90m━━━━━━━━━━━━━━━━━━━━━━━━━━━━━━━━━━━━━━━━\u001b[0m \u001b[32m1.3/1.3 MB\u001b[0m \u001b[31m21.7 MB/s\u001b[0m eta \u001b[36m0:00:00\u001b[0m\n",
            "\u001b[2K     \u001b[90m━━━━━━━━━━━━━━━━━━━━━━━━━━━━━━━━━━━━━━━━\u001b[0m \u001b[32m20.6/20.6 MB\u001b[0m \u001b[31m39.7 MB/s\u001b[0m eta \u001b[36m0:00:00\u001b[0m\n",
            "\u001b[?25h"
          ]
        }
      ],
      "source": [
        "!pip install netCDF4 -q\n",
        "!pip install rasterio -q"
      ]
    },
    {
      "cell_type": "markdown",
      "metadata": {
        "id": "UDAf7jrkOLRQ"
      },
      "source": [
        "##Importar as Bibliotecas\n",
        "\n",
        "\n"
      ]
    },
    {
      "cell_type": "code",
      "execution_count": 3,
      "metadata": {
        "id": "Rrgoa4c5OMNk"
      },
      "outputs": [],
      "source": [
        "import netCDF4 as nc\n",
        "import numpy as np\n",
        "import pandas as pd\n",
        "import matplotlib.pyplot as plt\n",
        "from platform import python_version\n",
        "from math import pi, cos\n",
        "import os, time, argparse, platform, subprocess\n",
        "from rich.progress import Progress\n",
        "import glob\n",
        "from tqdm import tqdm"
      ]
    },
    {
      "cell_type": "markdown",
      "metadata": {
        "id": "8h-1pze-l1kL"
      },
      "source": [
        "# **1. Calcular e Plotar Mapas da PBLH_ERA5**"
      ]
    },
    {
      "cell_type": "markdown",
      "metadata": {
        "id": "injhS4IMyirD"
      },
      "source": [
        "## 1.1. Calcular a Média da PBLH diurna"
      ]
    },
    {
      "cell_type": "markdown",
      "source": [
        "Dentro do diretório base encontra-se os dados horários da PBLH de 2020 provenientes do ERA5.\n",
        "\n",
        "Neste exemplo apenas o período diurno está sendo calculado para verificar a média da fase convectiva da camada limite."
      ],
      "metadata": {
        "id": "p84n4edGlKTg"
      }
    },
    {
      "cell_type": "code",
      "source": [
        "# Diretório onde estão os arquivos\n",
        "diretorio_base = os.listdir('~/PBLH_2020')\n",
        "diretorio_base.sort()"
      ],
      "metadata": {
        "id": "A5flZ3KIg33G"
      },
      "execution_count": 12,
      "outputs": []
    },
    {
      "cell_type": "markdown",
      "source": [
        "Criar uma lista vazia onde os dataframes de cada hora serão armazenados"
      ],
      "metadata": {
        "id": "aULFp_tXlHPQ"
      }
    },
    {
      "cell_type": "code",
      "source": [
        "# Lista para armazenar os DataFrames\n",
        "lista_de_dataframes = []"
      ],
      "metadata": {
        "id": "hQu1-wuPhuqL"
      },
      "execution_count": 18,
      "outputs": []
    },
    {
      "cell_type": "code",
      "execution_count": 19,
      "metadata": {
        "id": "AMEr-LL3Vwhx"
      },
      "outputs": [],
      "source": [
        "# Loop para ler os arquivos dentro do diretorio_base\n",
        "for arquivo in diretorio_base:\n",
        "  # Lendo o arquivo e criando o DataFrame\n",
        "  df = pd.read_csv('/content/drive/MyDrive/Mapas_Amazonia/PBLH/Anual/PBLH_2020/{}'.format(arquivo),\n",
        "                    delimiter='\\t')\n",
        "\n",
        "  lista_de_arquivos.append(df)\n",
        "\n",
        "# Concatenando os DataFrames ao longo das colunas e calculando a média da coluna PBLH\n",
        "media_pblh = pd.concat([df['PBLH'] for df in lista_de_arquivos], axis=1).mean(axis=1)\n",
        "\n",
        "# Criando um novo DataFrame com a média da coluna PBLH\n",
        "df_media_pblh = pd.DataFrame({\n",
        "    'latitude': lista_de_arquivos[0]['latitude'],  # Supondo que a coluna 'latitude' seja a mesma em todos os dataframes\n",
        "    'longitude': lista_de_arquivos[0]['longitude'],  # Supondo que a coluna 'longitude' seja a mesma em todos os dataframes\n",
        "    'PBLH_media': media_pblh\n",
        "})"
      ]
    },
    {
      "cell_type": "markdown",
      "source": [
        "Foi criado um dataframe com a média do ano de 2020."
      ],
      "metadata": {
        "id": "llFuLJODf-Qa"
      }
    },
    {
      "cell_type": "code",
      "source": [
        "df_media_pblh.head()"
      ],
      "metadata": {
        "colab": {
          "base_uri": "https://localhost:8080/",
          "height": 206
        },
        "id": "cmxucW14f304",
        "outputId": "79025e8e-75bb-474d-cd11-6d0969d2225e"
      },
      "execution_count": 20,
      "outputs": [
        {
          "output_type": "execute_result",
          "data": {
            "text/plain": [
              "   latitude  longitude  PBLH_media\n",
              "0      7.00      -75.0  754.681111\n",
              "1      6.75      -75.0  854.595556\n",
              "2      6.50      -75.0  842.962222\n",
              "3      6.25      -75.0  769.596667\n",
              "4      6.00      -75.0  805.087222"
            ],
            "text/html": [
              "\n",
              "  <div id=\"df-c1fb9f7c-0c9f-4698-9702-ef69b9c2e85c\" class=\"colab-df-container\">\n",
              "    <div>\n",
              "<style scoped>\n",
              "    .dataframe tbody tr th:only-of-type {\n",
              "        vertical-align: middle;\n",
              "    }\n",
              "\n",
              "    .dataframe tbody tr th {\n",
              "        vertical-align: top;\n",
              "    }\n",
              "\n",
              "    .dataframe thead th {\n",
              "        text-align: right;\n",
              "    }\n",
              "</style>\n",
              "<table border=\"1\" class=\"dataframe\">\n",
              "  <thead>\n",
              "    <tr style=\"text-align: right;\">\n",
              "      <th></th>\n",
              "      <th>latitude</th>\n",
              "      <th>longitude</th>\n",
              "      <th>PBLH_media</th>\n",
              "    </tr>\n",
              "  </thead>\n",
              "  <tbody>\n",
              "    <tr>\n",
              "      <th>0</th>\n",
              "      <td>7.00</td>\n",
              "      <td>-75.0</td>\n",
              "      <td>754.681111</td>\n",
              "    </tr>\n",
              "    <tr>\n",
              "      <th>1</th>\n",
              "      <td>6.75</td>\n",
              "      <td>-75.0</td>\n",
              "      <td>854.595556</td>\n",
              "    </tr>\n",
              "    <tr>\n",
              "      <th>2</th>\n",
              "      <td>6.50</td>\n",
              "      <td>-75.0</td>\n",
              "      <td>842.962222</td>\n",
              "    </tr>\n",
              "    <tr>\n",
              "      <th>3</th>\n",
              "      <td>6.25</td>\n",
              "      <td>-75.0</td>\n",
              "      <td>769.596667</td>\n",
              "    </tr>\n",
              "    <tr>\n",
              "      <th>4</th>\n",
              "      <td>6.00</td>\n",
              "      <td>-75.0</td>\n",
              "      <td>805.087222</td>\n",
              "    </tr>\n",
              "  </tbody>\n",
              "</table>\n",
              "</div>\n",
              "    <div class=\"colab-df-buttons\">\n",
              "\n",
              "  <div class=\"colab-df-container\">\n",
              "    <button class=\"colab-df-convert\" onclick=\"convertToInteractive('df-c1fb9f7c-0c9f-4698-9702-ef69b9c2e85c')\"\n",
              "            title=\"Convert this dataframe to an interactive table.\"\n",
              "            style=\"display:none;\">\n",
              "\n",
              "  <svg xmlns=\"http://www.w3.org/2000/svg\" height=\"24px\" viewBox=\"0 -960 960 960\">\n",
              "    <path d=\"M120-120v-720h720v720H120Zm60-500h600v-160H180v160Zm220 220h160v-160H400v160Zm0 220h160v-160H400v160ZM180-400h160v-160H180v160Zm440 0h160v-160H620v160ZM180-180h160v-160H180v160Zm440 0h160v-160H620v160Z\"/>\n",
              "  </svg>\n",
              "    </button>\n",
              "\n",
              "  <style>\n",
              "    .colab-df-container {\n",
              "      display:flex;\n",
              "      gap: 12px;\n",
              "    }\n",
              "\n",
              "    .colab-df-convert {\n",
              "      background-color: #E8F0FE;\n",
              "      border: none;\n",
              "      border-radius: 50%;\n",
              "      cursor: pointer;\n",
              "      display: none;\n",
              "      fill: #1967D2;\n",
              "      height: 32px;\n",
              "      padding: 0 0 0 0;\n",
              "      width: 32px;\n",
              "    }\n",
              "\n",
              "    .colab-df-convert:hover {\n",
              "      background-color: #E2EBFA;\n",
              "      box-shadow: 0px 1px 2px rgba(60, 64, 67, 0.3), 0px 1px 3px 1px rgba(60, 64, 67, 0.15);\n",
              "      fill: #174EA6;\n",
              "    }\n",
              "\n",
              "    .colab-df-buttons div {\n",
              "      margin-bottom: 4px;\n",
              "    }\n",
              "\n",
              "    [theme=dark] .colab-df-convert {\n",
              "      background-color: #3B4455;\n",
              "      fill: #D2E3FC;\n",
              "    }\n",
              "\n",
              "    [theme=dark] .colab-df-convert:hover {\n",
              "      background-color: #434B5C;\n",
              "      box-shadow: 0px 1px 3px 1px rgba(0, 0, 0, 0.15);\n",
              "      filter: drop-shadow(0px 1px 2px rgba(0, 0, 0, 0.3));\n",
              "      fill: #FFFFFF;\n",
              "    }\n",
              "  </style>\n",
              "\n",
              "    <script>\n",
              "      const buttonEl =\n",
              "        document.querySelector('#df-c1fb9f7c-0c9f-4698-9702-ef69b9c2e85c button.colab-df-convert');\n",
              "      buttonEl.style.display =\n",
              "        google.colab.kernel.accessAllowed ? 'block' : 'none';\n",
              "\n",
              "      async function convertToInteractive(key) {\n",
              "        const element = document.querySelector('#df-c1fb9f7c-0c9f-4698-9702-ef69b9c2e85c');\n",
              "        const dataTable =\n",
              "          await google.colab.kernel.invokeFunction('convertToInteractive',\n",
              "                                                    [key], {});\n",
              "        if (!dataTable) return;\n",
              "\n",
              "        const docLinkHtml = 'Like what you see? Visit the ' +\n",
              "          '<a target=\"_blank\" href=https://colab.research.google.com/notebooks/data_table.ipynb>data table notebook</a>'\n",
              "          + ' to learn more about interactive tables.';\n",
              "        element.innerHTML = '';\n",
              "        dataTable['output_type'] = 'display_data';\n",
              "        await google.colab.output.renderOutput(dataTable, element);\n",
              "        const docLink = document.createElement('div');\n",
              "        docLink.innerHTML = docLinkHtml;\n",
              "        element.appendChild(docLink);\n",
              "      }\n",
              "    </script>\n",
              "  </div>\n",
              "\n",
              "\n",
              "<div id=\"df-825f0c74-cd43-4e55-b378-94833bb083aa\">\n",
              "  <button class=\"colab-df-quickchart\" onclick=\"quickchart('df-825f0c74-cd43-4e55-b378-94833bb083aa')\"\n",
              "            title=\"Suggest charts\"\n",
              "            style=\"display:none;\">\n",
              "\n",
              "<svg xmlns=\"http://www.w3.org/2000/svg\" height=\"24px\"viewBox=\"0 0 24 24\"\n",
              "     width=\"24px\">\n",
              "    <g>\n",
              "        <path d=\"M19 3H5c-1.1 0-2 .9-2 2v14c0 1.1.9 2 2 2h14c1.1 0 2-.9 2-2V5c0-1.1-.9-2-2-2zM9 17H7v-7h2v7zm4 0h-2V7h2v10zm4 0h-2v-4h2v4z\"/>\n",
              "    </g>\n",
              "</svg>\n",
              "  </button>\n",
              "\n",
              "<style>\n",
              "  .colab-df-quickchart {\n",
              "      --bg-color: #E8F0FE;\n",
              "      --fill-color: #1967D2;\n",
              "      --hover-bg-color: #E2EBFA;\n",
              "      --hover-fill-color: #174EA6;\n",
              "      --disabled-fill-color: #AAA;\n",
              "      --disabled-bg-color: #DDD;\n",
              "  }\n",
              "\n",
              "  [theme=dark] .colab-df-quickchart {\n",
              "      --bg-color: #3B4455;\n",
              "      --fill-color: #D2E3FC;\n",
              "      --hover-bg-color: #434B5C;\n",
              "      --hover-fill-color: #FFFFFF;\n",
              "      --disabled-bg-color: #3B4455;\n",
              "      --disabled-fill-color: #666;\n",
              "  }\n",
              "\n",
              "  .colab-df-quickchart {\n",
              "    background-color: var(--bg-color);\n",
              "    border: none;\n",
              "    border-radius: 50%;\n",
              "    cursor: pointer;\n",
              "    display: none;\n",
              "    fill: var(--fill-color);\n",
              "    height: 32px;\n",
              "    padding: 0;\n",
              "    width: 32px;\n",
              "  }\n",
              "\n",
              "  .colab-df-quickchart:hover {\n",
              "    background-color: var(--hover-bg-color);\n",
              "    box-shadow: 0 1px 2px rgba(60, 64, 67, 0.3), 0 1px 3px 1px rgba(60, 64, 67, 0.15);\n",
              "    fill: var(--button-hover-fill-color);\n",
              "  }\n",
              "\n",
              "  .colab-df-quickchart-complete:disabled,\n",
              "  .colab-df-quickchart-complete:disabled:hover {\n",
              "    background-color: var(--disabled-bg-color);\n",
              "    fill: var(--disabled-fill-color);\n",
              "    box-shadow: none;\n",
              "  }\n",
              "\n",
              "  .colab-df-spinner {\n",
              "    border: 2px solid var(--fill-color);\n",
              "    border-color: transparent;\n",
              "    border-bottom-color: var(--fill-color);\n",
              "    animation:\n",
              "      spin 1s steps(1) infinite;\n",
              "  }\n",
              "\n",
              "  @keyframes spin {\n",
              "    0% {\n",
              "      border-color: transparent;\n",
              "      border-bottom-color: var(--fill-color);\n",
              "      border-left-color: var(--fill-color);\n",
              "    }\n",
              "    20% {\n",
              "      border-color: transparent;\n",
              "      border-left-color: var(--fill-color);\n",
              "      border-top-color: var(--fill-color);\n",
              "    }\n",
              "    30% {\n",
              "      border-color: transparent;\n",
              "      border-left-color: var(--fill-color);\n",
              "      border-top-color: var(--fill-color);\n",
              "      border-right-color: var(--fill-color);\n",
              "    }\n",
              "    40% {\n",
              "      border-color: transparent;\n",
              "      border-right-color: var(--fill-color);\n",
              "      border-top-color: var(--fill-color);\n",
              "    }\n",
              "    60% {\n",
              "      border-color: transparent;\n",
              "      border-right-color: var(--fill-color);\n",
              "    }\n",
              "    80% {\n",
              "      border-color: transparent;\n",
              "      border-right-color: var(--fill-color);\n",
              "      border-bottom-color: var(--fill-color);\n",
              "    }\n",
              "    90% {\n",
              "      border-color: transparent;\n",
              "      border-bottom-color: var(--fill-color);\n",
              "    }\n",
              "  }\n",
              "</style>\n",
              "\n",
              "  <script>\n",
              "    async function quickchart(key) {\n",
              "      const quickchartButtonEl =\n",
              "        document.querySelector('#' + key + ' button');\n",
              "      quickchartButtonEl.disabled = true;  // To prevent multiple clicks.\n",
              "      quickchartButtonEl.classList.add('colab-df-spinner');\n",
              "      try {\n",
              "        const charts = await google.colab.kernel.invokeFunction(\n",
              "            'suggestCharts', [key], {});\n",
              "      } catch (error) {\n",
              "        console.error('Error during call to suggestCharts:', error);\n",
              "      }\n",
              "      quickchartButtonEl.classList.remove('colab-df-spinner');\n",
              "      quickchartButtonEl.classList.add('colab-df-quickchart-complete');\n",
              "    }\n",
              "    (() => {\n",
              "      let quickchartButtonEl =\n",
              "        document.querySelector('#df-825f0c74-cd43-4e55-b378-94833bb083aa button');\n",
              "      quickchartButtonEl.style.display =\n",
              "        google.colab.kernel.accessAllowed ? 'block' : 'none';\n",
              "    })();\n",
              "  </script>\n",
              "</div>\n",
              "    </div>\n",
              "  </div>\n"
            ]
          },
          "metadata": {},
          "execution_count": 20
        }
      ]
    },
    {
      "cell_type": "markdown",
      "metadata": {
        "id": "upo-MFN9y2CU"
      },
      "source": [
        "## **1.2. Plotar a PBLH espacializada para a Amazônia**"
      ]
    },
    {
      "cell_type": "markdown",
      "metadata": {
        "id": "cN1BR0IYy_D4"
      },
      "source": [
        "### Lendo os dados e filtar os pontos dentro do shape da Amazônia"
      ]
    },
    {
      "cell_type": "code",
      "execution_count": 21,
      "metadata": {
        "id": "YjkaGwufz8Rd"
      },
      "outputs": [],
      "source": [
        "import geopandas as gpd\n",
        "import pandas as pd\n",
        "import matplotlib.pyplot as plt\n",
        "from shapely.geometry import Point\n",
        "\n",
        "# Lendo o shapefile da Amazônia\n",
        "amazonia_shapefile = \"/content/drive/MyDrive/Mapas_Amazonia/Shape_AM/Bioma_Amazonico.shp\"  # Substitua pelo caminho real para o seu shapefile\n",
        "amazonia = gpd.read_file(amazonia_shapefile)\n",
        "\n",
        "\n",
        "# Criando uma lista de objetos Point com base nas latitudes e longitudes\n",
        "geometry = [Point(lon, lat) for lon, lat in zip(df_media_pblh['longitude'], df_media_pblh['latitude'])]\n",
        "\n",
        "# Criando um GeoDataFrame a partir dos pontos\n",
        "gdf_pontos = gpd.GeoDataFrame(df_media_pblh, geometry=geometry, crs=amazonia.crs)\n",
        "\n",
        "# Filtrando apenas os pontos que estão dentro do shape da Amazônia\n",
        "pontos_amazonia = gdf_pontos[gdf_pontos.within(amazonia.geometry.unary_union)]"
      ]
    },
    {
      "cell_type": "markdown",
      "metadata": {
        "id": "j1-XlXsC0U7v"
      },
      "source": [
        "### Interpolar os dados e Criar o Polygonos"
      ]
    },
    {
      "cell_type": "code",
      "execution_count": 22,
      "metadata": {
        "id": "IqstV9O3zBHk"
      },
      "outputs": [],
      "source": [
        "from shapely.geometry import Polygon\n",
        "from scipy.interpolate import griddata\n",
        "# Resolução da grade\n",
        "resolucao = 0.1\n",
        "\n",
        "# Calculando os limites da grade a partir dos limites da Amazônia\n",
        "xmin, ymin, xmax, ymax = amazonia.total_bounds\n",
        "xgrid = np.arange(xmin, xmax, resolucao)\n",
        "ygrid = np.arange(ymin, ymax, resolucao)\n",
        "xgrid, ygrid = np.meshgrid(xgrid, ygrid)\n",
        "\n",
        "# Criando polígonos a partir dos pontos interpolados\n",
        "poligonos_interpolados = [Polygon([(x, y), (x + resolucao, y), (x + resolucao, y + resolucao), (x, y + resolucao)])\n",
        "                          for x, y in zip(xgrid.flat, ygrid.flat)]\n",
        "\n",
        "# Criando um GeoDataFrame com os polígonos interpolados\n",
        "gdf_interpolado = gpd.GeoDataFrame(geometry=poligonos_interpolados, crs=amazonia.crs)\n",
        "\n",
        "# Interpolando os valores de PBLH para os polígonos\n",
        "gdf_interpolado['PBLH'] = griddata((pontos_amazonia['longitude'], pontos_amazonia['latitude']),\n",
        "                                   pontos_amazonia['PBLH_media'], (xgrid, ygrid), method='cubic').flatten()\n",
        "\n",
        "# Fazendo a interseção com o shapefile da Amazônia\n",
        "resultado_final = gpd.overlay(gdf_interpolado, amazonia, how='intersection')\n"
      ]
    },
    {
      "cell_type": "markdown",
      "metadata": {
        "id": "Uw4kCmxnzK2H"
      },
      "source": [
        "### Plotar o Mapa da PBLH na Amazônia"
      ]
    },
    {
      "cell_type": "code",
      "execution_count": 23,
      "metadata": {
        "colab": {
          "base_uri": "https://localhost:8080/",
          "height": 529
        },
        "id": "NVPJTHBxzOxm",
        "outputId": "1b1539fc-ab2c-4c25-ee7c-65738e5c1902"
      },
      "outputs": [
        {
          "output_type": "display_data",
          "data": {
            "text/plain": [
              "<Figure size 1000x1000 with 2 Axes>"
            ],
            "image/png": "[encoded data removed]"
          },
          "metadata": {}
        }
      ],
      "source": [
        "# Criando o mapa com base no GeoDataFrame resultante\n",
        "fig, ax = plt.subplots(figsize=(10, 10))\n",
        "amazonia.plot(ax=ax, color='lightgrey')  # Plotando o contorno da Amazônia em cinza claro\n",
        "\n",
        "# Plotando o PBLH interpolado dentro dos limites da Amazônia\n",
        "resultado_final.plot(column='PBLH', cmap='jet', ax=ax,  vmin=0, vmax=1800)\n",
        "plt.xlabel('Longitude')\n",
        "plt.ylabel('Latitude')\n",
        "\n",
        "# Adicionando a barra de cores manualmente\n",
        "sm = plt.cm.ScalarMappable(cmap='jet', norm=plt.Normalize(vmin=0, vmax=1800))\n",
        "sm._A = []  # Criando uma lista vazia para armazenar os valores da barra de cores\n",
        "cbar = plt.colorbar(sm, ax=ax, shrink=0.59) # Definindo o tamanho da barra de cores\n",
        "cbar.set_label('PBLH')\n",
        "\n",
        "# Definir a pasta de saída\n",
        "saida = r'/content/drive/MyDrive/'\n",
        "# Criar uma nova pasta Plots usando a função os.makedirs()\n",
        "sub_dir = os.path.join(saida, 'Plot_PBLH/')\n",
        "arquivo = 'PBLH_2020'\n",
        "if not os.path.exists(sub_dir):\n",
        "  os.makedirs(sub_dir)\n",
        "plt.savefig(sub_dir + arquivo , dpi=400)\n",
        "plt.show()"
      ]
    }
  ],
  "metadata": {
    "colab": {
      "provenance": [],
      "toc_visible": true,
      "authorship_tag": "ABX9TyMw7tW8vUsXe7Ha83+SV1V3",
      "include_colab_link": true
    },
    "kernelspec": {
      "display_name": "Python 3",
      "name": "python3"
    },
    "language_info": {
      "name": "python"
    }
  },
  "nbformat": 4,
  "nbformat_minor": 0
}